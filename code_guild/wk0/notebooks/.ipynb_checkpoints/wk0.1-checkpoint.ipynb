{
 "cells": [
  {
   "cell_type": "markdown",
   "metadata": {},
   "source": [
    "# Warm-up challenge\n",
    "\n",
    "Complete *reverse_string* and *primes* challenges in challenge folder.\n"
   ]
  },
  {
   "cell_type": "raw",
   "metadata": {},
   "source": [
    "# Example from yesterday\n",
    "\n",
    "def t(num):\n",
    "    if 10 <= num < 15:\n",
    "        print(\"hot\")\n",
    "    elif num > 15:\n",
    "        print(\"hotter\")\n",
    "    else:\n",
    "        print(\"cold\")\n",
    "\n",
    "# What does this function do?\n",
    "for i in range(4):\n",
    "    for j in range(10):\n",
    "        if j % 3 == 0:\n",
    "            continue\n",
    "        if j > 7 and j % 2 == 0:\n",
    "            break\n",
    "        else:\n",
    "            print('i equals', i)\n",
    "            print('j equals', j)\n",
    "            print('------------')\n"
   ]
  },
  {
   "cell_type": "markdown",
   "metadata": {},
   "source": [
    "* [Follow up on yesterday's discussion on conditionals](http://www.pythonlearn.com/html-008/cfbook004.html)\n",
    "\n",
    "[more on conditionals](https://docs.python.org/3.5/tutorial/datastructures.html#more-on-conditions):\n",
    "* is and is not\n",
    "  * [difference between is and ==](https://stackoverflow.com/questions/132988/is-there-a-difference-between-and-is-in-python)\n",
    "  \n",
    "Try evaluating each of the lines below in your python REPL. What's going on? \n",
    "  \n",
    "```\n",
    "a = [1, 2, 3]\n",
    "b = a\n",
    "b is a\n",
    "b == a\n",
    "b = a[:]\n",
    "b is a\n",
    "b == a\n",
    "```\n",
    "If you have a hypothesis about the difference between is and ==, devise some tests you could try out to disprove your hypothesis. Implement them. Were you correct?\n",
    "\n",
    "* in and not in\n",
    "* and, or\n",
    "* comparison priority\n",
    ">  not has the highest priority and or the lowest, so that A and not B or C is equivalent to (A and (not B)) or C.\n",
    "\n",
    "* Short circuit operators\n",
    "\n"
   ]
  },
  {
   "cell_type": "markdown",
   "metadata": {},
   "source": [
    "# More string and list practice\n",
    "\n",
    "* Add elements from a list L to the end of another list at least three different ways.\n",
    "* Insert elements into a list at least two different ways.\n",
    "* Insert an element into a string (this might take more than one step...).\n",
    "* Remove an item from a list by value.\n",
    "* Remove an item from a list by index.\n",
    "* Remove all items from a list two different ways.\n",
    "* Return the index in the list of the first item whose value is x. \n",
    "* Return the number of times x appears in the list.\n",
    "* Capitalize the first element in a string\n",
    "* Capitalize all elements in a string\n",
    "* Strip leading, trailing, and all whitespace (ex. leading: '  asdf  ' --> 'asdf  ', trailing:'  asdf  ' --> '  asdf', all:'   asdf   ' --> 'asdf').\n",
    "* Split a sentence into a list of words (no whitespace), how would you split on comma or semi-colon?\n",
    "* Read up on how to format strings"
   ]
  },
  {
   "cell_type": "markdown",
   "metadata": {},
   "source": []
  }
 ],
 "metadata": {
  "kernelspec": {
   "display_name": "Python 3",
   "language": "python",
   "name": "python3"
  },
  "language_info": {
   "codemirror_mode": {
    "name": "ipython",
    "version": 3
   },
   "file_extension": ".py",
   "mimetype": "text/x-python",
   "name": "python",
   "nbconvert_exporter": "python",
   "pygments_lexer": "ipython3",
   "version": "3.5.0"
  }
 },
 "nbformat": 4,
 "nbformat_minor": 0
}
