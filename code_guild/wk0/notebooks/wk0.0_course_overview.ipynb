{
 "cells": [
  {
   "cell_type": "markdown",
   "metadata": {},
   "source": [
    "<small><i>This notebook was prepared by [Thunder Shiviah](https://github.com/ThunderShiviah). Source and license info is on [GitHub](https://github.com/ThunderShiviah/code_guild).</i></small>\n",
    "\n",
    "# Relevant links to check out\n",
    "* [blog post about programmer portfolios](https://blog.codinghorror.com/a-programmers-portfolio/)\n",
    "* [pragmatic programming principles](https://blog.codinghorror.com/a-pragmatic-quick-reference/)\n",
    "* [pic of the full stack](https://i.stack.imgur.com/FPWXS.png)\n",
    "* [Teach yourself programming in ten years](http://norvig.com/21-days.html)\n",
    "* [Unix philosophy](https://en.wikipedia.org/wiki/Unix_philosophy)\n",
    "* [Notes on the full stack](https://www.facebook.com/notes/facebook-engineering/the-full-stack-part-i/461505383919)\n",
    "* [The rise and fall of the full stack developer](http://techcrunch.com/2014/11/08/the-rise-and-fall-of-the-full-stack-developer/)\n",
    "* [Layers of the full stack](http://www.laurencegellert.com/2012/08/what-is-a-full-stack-developer/)\n",
    "\n",
    "# Python links\n",
    "\n",
    "* [Learn Python the hard way](http://learnpythonthehardway.org/book/)\n",
    "* [Think Python](http://www.greenteapress.com/thinkpython/)\n",
    "* [Python 3.5 official tutorial](https://docs.python.org/3.5/tutorial/)\n",
    "* [python learn](http://www.pythonlearn.com/html-008/index.html)\n"
   ]
  },
  {
   "cell_type": "markdown",
   "metadata": {},
   "source": [
    "# Wk0.0\n",
    "## Introduction: Hello Code Guild!\n",
    "\n",
    "* FORM TO FILL OUT: http://goo.gl/forms/QSbdV6d9kJ\n",
    "* Slack channel: https://codeguild2015.slack.com # I'll add you after you fill out the google form\n",
    "\n",
    "### Who I am\n",
    "\n",
    "* My contact info\n",
    "  * thunder.shiviah@gmail.com\n",
    "  \n",
    "* Where does course info live?\n",
    "  * https://github.com/ThunderShiviah/code_guild\n",
    "\n",
    "\n",
    "### What this course is about\n",
    "\n",
    "\n",
    "### Course overview and tentative timeline"
   ]
  },
  {
   "cell_type": "markdown",
   "metadata": {
    "collapsed": true
   },
   "source": [
    "# wk0: Python\n",
    "\n",
    "* Did you know: Python is named after the BBC show “Monty Python’s Flying Circus” and has nothing to do with reptiles. \n",
    "\n",
    "* **Remember: when you're stuck, google it!**\n",
    "\n",
    "## Initialization: Shaving the yak\n",
    "\n",
    "\n",
    "\n",
    "* A quick primer on the command line\n",
    "  * Note: I highly recommend that windows users install a virtual box with ubuntu linux (or some other linux) for this course.\n",
    "  * Note: Use tab completion!!!\n",
    "  * pwd - print working directory\n",
    "  * ls - list directories\n",
    "  * cd - change directory\n",
    "  * mkdir - make directory\n",
    "  * man - get the manual pages for a command\n",
    "  \n",
    "\n",
    "* Install:\n",
    "  * Python3\n",
    "  * IPython\n",
    "  * git\n",
    "  \n",
    "* Deliverables:\n",
    "  * Check that python and ipython are correctly installed by running the REPL (read-eval-print-loop) from your command line (your output should look something like the next line).\n",
    "  "
   ]
  },
  {
   "cell_type": "markdown",
   "metadata": {},
   "source": [
    "Hello!\n",
    "\n",
    "```\n",
    "print('hello world')\n",
    "```"
   ]
  },
  {
   "cell_type": "code",
   "execution_count": null,
   "metadata": {
    "collapsed": false
   },
   "outputs": [
    {
     "name": "stdout",
     "output_type": "stream",
     "text": [
      "Python 3.4.3 |Anaconda 2.3.0 (64-bit)| (default, Jun  4 2015, 15:29:08) \n",
      "Type \"copyright\", \"credits\" or \"license\" for more information.\n",
      "\n",
      "IPython 4.0.0 -- An enhanced Interactive Python.\n",
      "?         -> Introduction and overview of IPython's features.\n",
      "%quickref -> Quick reference.\n",
      "help      -> Python's own help system.\n",
      "object?   -> Details about 'object', use 'object??' for extra details.\n",
      "\n",
      "\u001b[0;32mIn [\u001b[1;32m1\u001b[0;32m]: \u001b[0m\n",
      "KeyboardInterrupt\n",
      "\n",
      "\u001b[0;32mIn [\u001b[1;32m1\u001b[0;32m]: \u001b[0m\n",
      "\n",
      "\u001b[0;32mIn [\u001b[1;32m1\u001b[0;32m]: \u001b[0m"
     ]
    }
   ],
   "source": [
    "!ipython # you can exit by using Ctrl-c twice."
   ]
  },
  {
   "cell_type": "markdown",
   "metadata": {},
   "source": [
    "* Open up ipython notebook by running\n",
    "```\n",
    "ipython notebook\n",
    "```\n",
    "* Make sure git is correctly installed by running\n",
    "```\n",
    "git --version \n",
    "```\n",
    "You should see \n",
    "``` git version 2.1.4```\n",
    "or some version greater than 2.1.4.\n",
    "\n",
    "\n",
    "* Last, go to my code_guild project repository https://github.com/ThunderShiviah/code_guild and copy the repo url. In your terminal, navigate to the directory that you want to keep your projects and run\n",
    "```\n",
    "git clone git@github.com:ThunderShiviah/code_guild.git\n",
    "```\n",
    "\n",
    "This should download some class materials to a directory named *code_guild*. Navigate to wk0/notebooks and run\n",
    "```\n",
    "ipython notebook wk0.0_course_overview\n",
    "```\n",
    "Try running and editing some of the cells.  "
   ]
  },
  {
   "cell_type": "markdown",
   "metadata": {
    "collapsed": true
   },
   "source": [
    "\n",
    "# Introduction to Python\n",
    "\n",
    "## A little history\n",
    "\n",
    "Python was conceived in the late 1980s[27] and its implementation was started in December 1989[28] by Guido van Rossum at CWI in the Netherlands as a successor to the ABC language (itself inspired by SETL)[29] capable of exception handling and interfacing with the Amoeba operating system.[6] Van Rossum is Python's principal author, and his continuing central role in deciding the direction of Python is reflected in the title given to him by the Python community, benevolent dictator for life (BDFL).\n",
    "\n",
    "About the origin of Python, Van Rossum wrote in 1996:[30]\n",
    "\n",
    ">Over six years ago, in December 1989, I was looking for a \"hobby\" programming project that would keep me occupied during the week around Christmas. My office ... would be closed, but I had a home computer, and not much else on my hands. I decided to write an interpreter for the new scripting language I had been thinking about lately: a descendant of ABC that would appeal to Unix/C hackers. I chose Python as a working title for the project, being in a slightly irreverent mood (and a big fan of Monty Python's Flying Circus).\n"
   ]
  },
  {
   "cell_type": "code",
   "execution_count": 6,
   "metadata": {
    "collapsed": false
   },
   "outputs": [
    {
     "data": {
      "text/html": [
       "<img src=\"https://upload.wikimedia.org/wikipedia/commons/6/66/Guido_van_Rossum_OSCON_2006.jpg\"/>"
      ],
      "text/plain": [
       "<IPython.core.display.Image object>"
      ]
     },
     "execution_count": 6,
     "metadata": {},
     "output_type": "execute_result"
    }
   ],
   "source": [
    "from IPython.display import Image\n",
    "Image(url='https://upload.wikimedia.org/wikipedia/commons/6/66/Guido_van_Rossum_OSCON_2006.jpg')"
   ]
  },
  {
   "cell_type": "markdown",
   "metadata": {},
   "source": [
    "# The zen of python"
   ]
  },
  {
   "cell_type": "code",
   "execution_count": 7,
   "metadata": {
    "collapsed": false
   },
   "outputs": [
    {
     "name": "stdout",
     "output_type": "stream",
     "text": [
      "The Zen of Python, by Tim Peters\n",
      "\n",
      "Beautiful is better than ugly.\n",
      "Explicit is better than implicit.\n",
      "Simple is better than complex.\n",
      "Complex is better than complicated.\n",
      "Flat is better than nested.\n",
      "Sparse is better than dense.\n",
      "Readability counts.\n",
      "Special cases aren't special enough to break the rules.\n",
      "Although practicality beats purity.\n",
      "Errors should never pass silently.\n",
      "Unless explicitly silenced.\n",
      "In the face of ambiguity, refuse the temptation to guess.\n",
      "There should be one-- and preferably only one --obvious way to do it.\n",
      "Although that way may not be obvious at first unless you're Dutch.\n",
      "Now is better than never.\n",
      "Although never is often better than *right* now.\n",
      "If the implementation is hard to explain, it's a bad idea.\n",
      "If the implementation is easy to explain, it may be a good idea.\n",
      "Namespaces are one honking great idea -- let's do more of those!\n"
     ]
    }
   ],
   "source": [
    "import this"
   ]
  },
  {
   "cell_type": "markdown",
   "metadata": {},
   "source": [
    "# A quick overview of ipython notebook, the python REPL, and running python programs\n",
    "\n",
    "* What should you use the REPL for?\n",
    "* How can you run a python program (hint: use .py)?\n",
    "* How can you use ipython notebook?\n",
    "* How can I get help?\n",
    "  * Python help() command\n",
    "  * Python documentation\n",
    "  * Stack overflow\n",
    "  * google\n",
    "  * google\n",
    "  * your classmates\n",
    "  * me\n",
    "  * google"
   ]
  },
  {
   "cell_type": "markdown",
   "metadata": {},
   "source": [
    "# Python basic data types\n",
    "\n",
    "* See [Python 3.5 official tutorial](https://docs.python.org/3.5/tutorial/) for help.\n",
    "\n",
    "* numbers\n",
    "  * using python as a calculator\n",
    "* using variables\n",
    "  * good variables (hint: short but descriptive)\n",
    "  * bad variables (hint: not descriptive, don't collide with existing names like str or list!)\n",
    "  \n",
    "* strings\n",
    "  * concatenation with +\n",
    "  * concatenation by putting two strings together\n",
    "  * multiplication with \\*\n",
    "  * indexing\n",
    "  * reverse indexing (starts at -1!)\n",
    "  * slicing\n",
    "  \n",
    "* lists\n",
    "  * indexing\n",
    "  * concatenating with +\n",
    "  * multiplying with \\*\n",
    "  * slicing\n",
    "  * appending\n",
    "\n",
    "* Reminder: You can get help on any command by using help(command) (ex. help(str) for help on strings.)\n",
    "* Tip: If you're on ipython notebook, try shift+tab to get a function overview. Hitting shift+tab multiple times gives you a more thorough function overview."
   ]
  },
  {
   "cell_type": "markdown",
   "metadata": {},
   "source": [
    "# Basic data structure - Exercises\n",
    "\n",
    "Open up the REPL and write the following code.\n",
    "Note: read https://docs.python.org/3.5/tutorial/introduction.html as you do the exercises. It's very useful!\n",
    "\n",
    "0. What does putting a # in your code do? # Hint: it's a comment!"
   ]
  },
  {
   "cell_type": "markdown",
   "metadata": {},
   "source": [
    "1. print out Hello, world!\n",
    "  * print out Hello,\\nworld! # What is the \\n doing?\n",
    "  * print out Hello,\\tworld! # What is the \\t doing?"
   ]
  },
  {
   "cell_type": "markdown",
   "metadata": {},
   "source": [
    "2. print out Hello, world! back to back 10 times (don't do this the dumb way)"
   ]
  },
  {
   "cell_type": "markdown",
   "metadata": {},
   "source": [
    "3. make a string 'hello' and a string 'world' and concatenate them two different ways.\n",
    "4. Make two variables, str1 and str2, and assign 'hello' and 'world' to them respectively # Why wouldn't we use as a variable?\n",
    "5. Use string indexing on the previous variables to get the o's from 'Hello' and 'World'.\n",
    "6. Get the last character in each variable by using reverse indexing. # Why can't we use -0 to reverse index?\n",
    "7. What happens if you call an index that's greater than the length of the string? # Ex. str1[100]\n",
    "\n",
    "8. Type in the following code (hit enter after each line):\n",
    "```\n",
    "str1 == 'hello'\n",
    "```\n",
    "```\n",
    "str2 == 'mars'\n",
    "```\n",
    "What do these return? How is = different from ==?\n",
    "9. Make a new variable py = 'Python'. How would we slice py to get 'Py'? # Slice this two ways\n",
    "10. What does py[::1] do? What about py[::2] and py[::-1]?\n",
    "11. Make an empty list called lst. Append str1, str2, and py (in that order). What will lst[0] return? \n",
    "12. Make a new list called lst_long which contains the backwards version of str1, str2, and py entered each three times (hence list should contain 'olleh', 'sram', 'nohtyP', three times each. Don't reverse the strings the dumb way).\n",
    "13. Set lst to lst concatenated with lst_long. Use len(lst). What do you get? What does len() command do? Type help(len). Also type help(lst).\n",
    "14. Use list slicing to return the original lst. Use lst slicing to return an empty list.\n",
    "15. When we slice an object, the first index in the slice is *inclusive* and the second index is *exclusive*. What do I mean here?\n",
    "16. Remember how indexing with a number larger than the length of our object gave an error? What if we slice with a number larger than the length of our object? Will it give an error? Try out lst[100] and lst[:100]. What's going on here? What about lst[100:]?\n",
    "17. Try changing the second element in lst to the number 5 by using lst[1] = 5. Can you change letters in strings?\n",
    "18. Python can do multiple variable assignment. Try entering the following:\n",
    "```\n",
    "a, b = 4, 5\n",
    "```\n",
    "What does a equal? What about b?\n",
    "Now type (but don't press enter)\n",
    "```\n",
    "b, a = a, a + b\n",
    "```\n",
    "Before you press enter, take a guess at what a and b will equal. Were you right?\n",
    "19. If you finish early, take a second to look over python documentation for [strings](https://docs.python.org/3.5/library/string.html) and [lists](https://docs.python.org/3.5/tutorial/datastructures.html). Try implementing a few new functions!"
   ]
  },
  {
   "cell_type": "markdown",
   "metadata": {},
   "source": [
    "# Basic control flow and functions\n",
    "\n",
    "* indenting (hint: spaces not tabs! [See Guido's reason](https://www.python.org/dev/peps/pep-0008/#tabs-or-spaces).)\n",
    "* if and else\n",
    "* for\n",
    "  * the range() function\n",
    "  * for thing in thing:\n",
    "* while\n",
    "* break, pass\n",
    "* making a function using def and return\n",
    "* assert"
   ]
  },
  {
   "cell_type": "markdown",
   "metadata": {},
   "source": [
    "# Basic control flow - Exercises\n",
    "What would the output for the following statements be? Guess the output and then type up the following code to verify your results. Note: Make sure you use four spaces for your indents. Yay muscle memory practice!\n",
    "\n",
    "```\n",
    "for i in range(5):\n",
    "    print(i*i)\n",
    "```\n",
    "```\n",
    "for d in [3,1,4,1,5]:\n",
    "    print(d, end=\" \")\n",
    "```\n",
    "```\n",
    "for i in range(4):\n",
    "    print(\"Hello\")\n",
    "```\n",
    "```\n",
    "for i in range(5):\n",
    "    print(i, 2**i)\n",
    "```\n",
    "```\n",
    "for i in range(0):\n",
    "    print(\"Hello\")\n",
    "```\n",
    "```\n",
    "for i in range(20):\n",
    "    if i%2 == 0:\n",
    "        print(\"i equals\", i)\n",
    "```\n",
    "```\n",
    "for i in range(20):\n",
    "    for j in range(i,20):\n",
    "        print(i, j)\n",
    "```\n",
    "```\n",
    "for i in range(20):\n",
    "    for j in range(i,20):\n",
    "        if i != 0 and i == j - 3:\n",
    "            print(i, j)\n",
    "```\n",
    "```\n",
    "i, j = 10, 20\n",
    "while i < j:\n",
    "    print(\"not yet...\", i, j)\n",
    "    i += 1   # What does the += symbol do?\n",
    "```\n",
    "```\n",
    "i, j = 10, 20\n",
    "while i < j:\n",
    "    print(\"not yet...\", i, j)\n",
    "    j -= 1   # What does the -= symbol do?\n",
    "```\n",
    "```\n",
    "i, j = 1, 20\n",
    "while i < j:\n",
    "    print(\"not yet...\", i, j)\n",
    "    j /= 2   # What does the /= symbol do?\n",
    "```\n",
    "```\n",
    "i, j = 2, 200000\n",
    "while i < j:\n",
    "    print(\"not yet...\", i, j)\n",
    "    i **= 2   \n",
    "```\n",
    "```\n",
    "for i in range(10):\n",
    "    if i % 3 == 0:\n",
    "        print(i, \"foo\")\n",
    "    if i % 6 == 0:     # What if I indented this line?\n",
    "        print(i, \"bar\")\n",
    "    else:\n",
    "        print(i, \"baz\")\n",
    "```\n",
    "```\n",
    "for i in range(10):\n",
    "    if i % 3 == 0:\n",
    "        print(i, \"foo\")\n",
    "    elif i % 6 == 0: # elif is short for else if\n",
    "        print(i, \"bar\")\n",
    "    else:\n",
    "        print(i, \"baz\")\n",
    "```\n",
    "```\n",
    "for i in range(10):\n",
    "    if i % 3 == 0:\n",
    "        print(i, \"foo\")\n",
    "    elif i % 2 == 0: # elif is short for else if\n",
    "        print(i, \"bar\")\n",
    "    else:\n",
    "        print(i, \"baz\")\n",
    "```\n",
    "```\n",
    "lst = ['a', 'b', 'c', 'd', 'e']\n",
    "for elem in lst:\n",
    "    print(elem)\n",
    "```\n",
    "```\n",
    "words = 'How many of these do I have to make!!?!?!'\n",
    "for word in words:  \n",
    "    print(word)\n",
    "```\n",
    "\n",
    "```\n",
    "words = 'How many of these do I have to make!!?!?!'\n",
    "for thingy in words:  \n",
    "    print(thingy)\n",
    "```\n",
    "```\n",
    "some = 'abvdfh'\n",
    "stuff = 'mnbdjhe'\n",
    "for foo in some:\n",
    "   for bar in stuff:\n",
    "       if foo == bar:\n",
    "           print(foo) # What would happen if I instead printed bar?\n",
    "```\n",
    "```\n",
    "some = 'abvdfh'\n",
    "stuff = 'mnbdjhe'\n",
    "for foo in some:\n",
    "   for bar in stuff:\n",
    "       if foo != bar: # What does != do?\n",
    "           print(foo) # What would happen if I instead printed bar?\n",
    "```\n",
    "```\n",
    "some = 'abvdfh'\n",
    "stuff = 'mnbdjhe'\n",
    "for foo in some:\n",
    "   if foo == bar: \n",
    "       for bar in stuff:\n",
    "           print(foo) \n",
    "```\n",
    "\n",
    "## What's wrong with the code below?\n",
    "\n",
    "Figure out what' wrong with each of the below examples and then fix the code.\n",
    "\n",
    "```\n",
    "# Don't run this!\n",
    "i, j = 10, 20 \n",
    "while i < j:\n",
    "    print(\"not yet...\", i, j)\n",
    "```\n",
    "```\n",
    "# How would you fix this\n",
    "for i in range(20):\n",
    "    for j in range(10):\n",
    "        print(j/i) \n",
    "```\n",
    "```\n",
    "for i in range(20):\n",
    "    for j in range(10):\n",
    "        print(j%i)\n",
    "```\n",
    "```\n",
    "for i in range(20):\n",
    "    for j in range(10):\n",
    "    print(i, j)\n",
    "```\n",
    "```\n",
    "for i in range(20):\n",
    "    if j < i:\n",
    "        print(i, j) # This will probably work on your machine but that makes it even worse! What's going on?\n",
    "```\n"
   ]
  },
  {
   "cell_type": "markdown",
   "metadata": {
    "collapsed": false
   },
   "source": [
    "\n",
    "\n"
   ]
  },
  {
   "cell_type": "code",
   "execution_count": 30,
   "metadata": {
    "collapsed": false
   },
   "outputs": [],
   "source": []
  },
  {
   "cell_type": "code",
   "execution_count": null,
   "metadata": {
    "collapsed": true
   },
   "outputs": [],
   "source": []
  }
 ],
 "metadata": {
  "kernelspec": {
   "display_name": "Python 3",
   "language": "python",
   "name": "python3"
  },
  "language_info": {
   "codemirror_mode": {
    "name": "ipython",
    "version": 3
   },
   "file_extension": ".py",
   "mimetype": "text/x-python",
   "name": "python",
   "nbconvert_exporter": "python",
   "pygments_lexer": "ipython3",
   "version": "3.5.0"
  }
 },
 "nbformat": 4,
 "nbformat_minor": 0
}
